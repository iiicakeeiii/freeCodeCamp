{
 "cells": [
  {
   "cell_type": "code",
   "execution_count": 1,
   "id": "6443d2fa",
   "metadata": {},
   "outputs": [],
   "source": [
    "from IPython.display import HTML"
   ]
  },
  {
   "cell_type": "code",
   "execution_count": 8,
   "id": "1e307d04",
   "metadata": {},
   "outputs": [],
   "source": [
    "# fret_css variable set to fretboard.css file\n",
    "fret_css = open(\"./styles/fretboard.css\", \"x\")"
   ]
  },
  {
   "cell_type": "code",
   "execution_count": 77,
   "id": "30a998a8",
   "metadata": {
    "scrolled": true
   },
   "outputs": [],
   "source": [
    "#save to file\n",
    "def css_write(file_path, css_styling):\n",
    "    css = open(file_path, \"w\")\n",
    "    css.write(css_styling)\n",
    "    css.close()"
   ]
  },
  {
   "cell_type": "code",
   "execution_count": 35,
   "id": "f6414650",
   "metadata": {},
   "outputs": [
    {
     "data": {
      "text/html": [
       "\n",
       "<style>\n",
       "  div {\n",
       "   p: 1px solid #dfdfe2;\n",
       "  }\n",
       "</style>\n"
      ],
      "text/plain": [
       "<IPython.core.display.HTML object>"
      ]
     },
     "execution_count": 35,
     "metadata": {},
     "output_type": "execute_result"
    }
   ],
   "source": [
    "def css_read(file_path):\n",
    "    styles = open(file_path, \"r\").read()\n",
    "    return HTML(styles)\n",
    "css_read(\"./styles/fretboard.css\")"
   ]
  },
  {
   "cell_type": "code",
   "execution_count": 665,
   "id": "e96eb9dd",
   "metadata": {},
   "outputs": [],
   "source": [
    "#set rule\n",
    "strings = \"\"\"\n",
    "<style>\n",
    "div.fret-board {\n",
    "  padding: 1px 0;\n",
    "  background-color: #f5f0a0;\n",
    "  width: 50%;\n",
    "  border-left: 2px solid black;\n",
    "}\n",
    "\n",
    "\n",
    ".str-1 {\n",
    "  border-top: 0.3mm solid #a3a3a0;\n",
    "  margin: 1px 0 5px 0;\n",
    "}\n",
    ".str-2 {\n",
    "  border-top: 0.4mm solid #a3a3a0;\n",
    "  margin: 0 0 5px 0;\n",
    "}\n",
    ".str-3 {\n",
    "  border-top: 0.5mm solid #a3a3a0;\n",
    "  margin: 0 0 5px 0;\n",
    "}\n",
    ".str-4 {\n",
    "  border-top: 0.6mm solid #c3c3a0;\n",
    "  margin: 0 0 5px 0;\n",
    "}\n",
    ".str-5 {\n",
    "  border-top: 0.7mm solid #c3c3a0;\n",
    "  margin: 0 0 5px 0;\n",
    "}\n",
    ".str-6 {\n",
    "  border-top: 0.8mm solid #c3c3a0;\n",
    "  margin: 0 0 1px 0;\n",
    "}\n",
    "\n",
    ".marker-1 {\n",
    "  border: 0.15em solid blue;\n",
    "  border-radius: 50%;\n",
    "  position: absolute;\n",
    "  margin-top: 0.13em;\n",
    "  \n",
    "}\n",
    "\n",
    ".marker-2 {\n",
    "  border: 0.15em solid red;\n",
    "  border-radius: 50%;\n",
    "  position: absolute;\n",
    "  margin-left: 5px;\n",
    "  margin-top: 0.13em;\n",
    "  \n",
    "}\n",
    "</style>\n",
    "\"\"\"\n",
    "path = \"./styles/fretboard.css\"\n",
    "css_write(path, strings)"
   ]
  },
  {
   "cell_type": "code",
   "execution_count": 666,
   "id": "fae97ef5",
   "metadata": {},
   "outputs": [
    {
     "data": {
      "text/html": [
       "\n",
       "<style>\n",
       "div.fret-board {\n",
       "  padding: 1px 0;\n",
       "  background-color: #f5f0a0;\n",
       "  width: 50%;\n",
       "  border-left: 2px solid black;\n",
       "}\n",
       "\n",
       "\n",
       ".str-1 {\n",
       "  border-top: 0.3mm solid #a3a3a0;\n",
       "  margin: 1px 0 5px 0;\n",
       "}\n",
       ".str-2 {\n",
       "  border-top: 0.4mm solid #a3a3a0;\n",
       "  margin: 0 0 5px 0;\n",
       "}\n",
       ".str-3 {\n",
       "  border-top: 0.5mm solid #a3a3a0;\n",
       "  margin: 0 0 5px 0;\n",
       "}\n",
       ".str-4 {\n",
       "  border-top: 0.6mm solid #c3c3a0;\n",
       "  margin: 0 0 5px 0;\n",
       "}\n",
       ".str-5 {\n",
       "  border-top: 0.7mm solid #c3c3a0;\n",
       "  margin: 0 0 5px 0;\n",
       "}\n",
       ".str-6 {\n",
       "  border-top: 0.8mm solid #c3c3a0;\n",
       "  margin: 0 0 1px 0;\n",
       "}\n",
       "\n",
       ".marker-1 {\n",
       "  border: 0.15em solid blue;\n",
       "  border-radius: 50%;\n",
       "  position: absolute;\n",
       "  margin-top: 0.13em;\n",
       "  \n",
       "}\n",
       "\n",
       ".marker-2 {\n",
       "  border: 0.15em solid red;\n",
       "  border-radius: 50%;\n",
       "  position: absolute;\n",
       "  margin-left: 5px;\n",
       "  margin-top: 0.13em;\n",
       "  \n",
       "}\n",
       "</style>\n"
      ],
      "text/plain": [
       "<IPython.core.display.HTML object>"
      ]
     },
     "execution_count": 666,
     "metadata": {},
     "output_type": "execute_result"
    }
   ],
   "source": [
    "css_read(path)"
   ]
  },
  {
   "cell_type": "code",
   "execution_count": 638,
   "id": "ca55387e",
   "metadata": {
    "scrolled": false
   },
   "outputs": [
    {
     "data": {
      "text/html": [
       "\n",
       "      <div class=\"fret-board\">\n",
       "        <section class=\"full-board\">\n",
       "          <div class=\"str-1\"></div>\n",
       "          <div class=\"str-2\"></div>\n",
       "          <span class=\"marker\">\n",
       "            <div class=\"marker-1\"></div><div class=\"marker-2\"></div>\n",
       "          </span>\n",
       "          <div class=\"str-3\"></div>\n",
       "          <div class=\"str-4\"></div>\n",
       "          <div class=\"str-5\"></div>\n",
       "          <div class=\"str-6\"></div>\n",
       "        </section>\n",
       "      </div>\n",
       "    "
      ],
      "text/plain": [
       "<IPython.core.display.HTML object>"
      ]
     },
     "execution_count": 638,
     "metadata": {},
     "output_type": "execute_result"
    }
   ],
   "source": [
    "HTML(\"\"\"\n",
    "      <div class=\"fret-board\">\n",
    "        <section class=\"full-board\">\n",
    "          <div class=\"str-1\"></div>\n",
    "          <div class=\"str-2\"></div>\n",
    "          <span class=\"marker\">\n",
    "            <div class=\"marker-1\"></div><div class=\"marker-2\"></div>\n",
    "          </span>\n",
    "          <div class=\"str-3\"></div>\n",
    "          <div class=\"str-4\"></div>\n",
    "          <div class=\"str-5\"></div>\n",
    "          <div class=\"str-6\"></div>\n",
    "        </section>\n",
    "      </div>\n",
    "    \"\"\")"
   ]
  },
  {
   "cell_type": "code",
   "execution_count": null,
   "id": "cf95542b",
   "metadata": {},
   "outputs": [],
   "source": []
  }
 ],
 "metadata": {
  "kernelspec": {
   "display_name": "Python 3 (ipykernel)",
   "language": "python",
   "name": "python3"
  },
  "language_info": {
   "codemirror_mode": {
    "name": "ipython",
    "version": 3
   },
   "file_extension": ".py",
   "mimetype": "text/x-python",
   "name": "python",
   "nbconvert_exporter": "python",
   "pygments_lexer": "ipython3",
   "version": "3.9.2"
  }
 },
 "nbformat": 4,
 "nbformat_minor": 5
}
