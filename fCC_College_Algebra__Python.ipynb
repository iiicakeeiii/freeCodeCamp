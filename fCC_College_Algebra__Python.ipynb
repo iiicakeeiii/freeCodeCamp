{
  "nbformat": 4,
  "nbformat_minor": 0,
  "metadata": {
    "colab": {
      "provenance": [],
      "collapsed_sections": [
        "Im9oqvxkzxBZ",
        "debT8rTC-y0c",
        "Hgm4ZfU4-17Z",
        "mEKbvdnrTbvH",
        "QOG61_QOcAHW",
        "71LsdKOllXUt"
      ],
      "authorship_tag": "ABX9TyO46ssmTEALKjNijBxlGrSz",
      "include_colab_link": true
    },
    "kernelspec": {
      "name": "python3",
      "display_name": "Python 3"
    },
    "language_info": {
      "name": "python"
    }
  },
  "cells": [
    {
      "cell_type": "markdown",
      "metadata": {
        "id": "view-in-github",
        "colab_type": "text"
      },
      "source": [
        "<a href=\"https://colab.research.google.com/github/iiicakeeiii/freeCodeCamp/blob/main/fCC_College_Algebra__Python.ipynb\" target=\"_parent\"><img src=\"https://colab.research.google.com/assets/colab-badge.svg\" alt=\"Open In Colab\"/></a>"
      ]
    },
    {
      "cell_type": "markdown",
      "source": [
        "#Library Imports"
      ],
      "metadata": {
        "id": "XJGzZC3yf32T"
      }
    },
    {
      "cell_type": "code",
      "source": [
        "from sympy import *"
      ],
      "metadata": {
        "id": "O2o7YaDzf_Py"
      },
      "execution_count": null,
      "outputs": []
    },
    {
      "cell_type": "markdown",
      "source": [
        "# Learning Ratios and Proportions"
      ],
      "metadata": {
        "id": "EUUs-KeFzMU6"
      }
    },
    {
      "cell_type": "markdown",
      "source": [
        "## Solving Proportions"
      ],
      "metadata": {
        "id": "Im9oqvxkzxBZ"
      }
    },
    {
      "cell_type": "markdown",
      "source": [
        "###Setup a proportion:<br>\n",
        "$\\frac{n1}{d1} = \\frac{n2}{d2}$"
      ],
      "metadata": {
        "id": "debT8rTC-y0c"
      }
    },
    {
      "cell_type": "code",
      "source": [
        "# Put a zero in for the unknown value\n",
        "n1 = 1\n",
        "d1 = 2\n",
        "n2 = 0\n",
        "d2 = 16\n",
        "\n",
        "if n2 == 0:\n",
        "  answer = d2 * n1 / d1\n",
        "  print(\"n2 = \", answer)\n",
        "\n",
        "if d2 == 0:\n",
        "  answer = n2 * d1 / n1\n",
        "  print(\"d2 = \", answer)"
      ],
      "metadata": {
        "colab": {
          "base_uri": "https://localhost:8080/"
        },
        "id": "EBa738ys8BFQ",
        "outputId": "ccf349d7-7d1d-4698-d612-2ac152a6a0d4"
      },
      "execution_count": null,
      "outputs": [
        {
          "output_type": "stream",
          "name": "stdout",
          "text": [
            "n2 =  8.0\n"
          ]
        }
      ]
    },
    {
      "cell_type": "markdown",
      "source": [
        "###Creating a function for proportions."
      ],
      "metadata": {
        "id": "Hgm4ZfU4-17Z"
      }
    },
    {
      "cell_type": "code",
      "source": [
        "def proportions():\n",
        "  print(\"Following the formula n1/d1 = n2/d2, enter known values and 0 for the missing values\")\n",
        "  n1 = int(input(prompt=\"n1:\"))\n",
        "  d1 = int(input(prompt=\"d1:\"))\n",
        "  n2 = int(input(prompt=\"n2:\"))\n",
        "  d2 = int(input(prompt=\"d2:\"))\n",
        "\n",
        "  if n2 == 0:\n",
        "    answer = d2 * n1 / d1\n",
        "    return \"n2 = {}\".format(answer)\n",
        "\n",
        "  elif d2 == 0:\n",
        "    answer = n2 * d1 / n1\n",
        "    return \"d2 = {}\".format(answer)\n",
        "\n",
        "  else:\n",
        "    return \"incorrect format\""
      ],
      "metadata": {
        "id": "qMpSEIwB8vPc"
      },
      "execution_count": null,
      "outputs": []
    },
    {
      "cell_type": "code",
      "source": [
        "proportions()\n"
      ],
      "metadata": {
        "colab": {
          "base_uri": "https://localhost:8080/",
          "height": 122
        },
        "id": "fOPlYH7yIBmX",
        "outputId": "8e9b1685-5ba3-4278-9975-210dbc38dc96"
      },
      "execution_count": null,
      "outputs": [
        {
          "name": "stdout",
          "output_type": "stream",
          "text": [
            "Following the formula n1/d1 = n2/d2, enter known values and 0 for the missing values\n",
            "n1:1\n",
            "d1:2\n",
            "n2:16\n",
            "d2:0\n"
          ]
        },
        {
          "output_type": "execute_result",
          "data": {
            "text/plain": [
              "'d2 = 32.0'"
            ],
            "application/vnd.google.colaboratory.intrinsic+json": {
              "type": "string"
            }
          },
          "metadata": {},
          "execution_count": 22
        }
      ]
    },
    {
      "cell_type": "markdown",
      "source": [
        "##Solving for X\n",
        "\n"
      ],
      "metadata": {
        "id": "mEKbvdnrTbvH"
      }
    },
    {
      "cell_type": "markdown",
      "source": [
        "###Variable `eq` is set to equal zero. So code will solve the equation to equal zero."
      ],
      "metadata": {
        "id": "QOG61_QOcAHW"
      }
    },
    {
      "cell_type": "code",
      "source": [
        "x = symbols('x')\n",
        "\n",
        "eq = 4/x - 2\n",
        "\n",
        "print(\"x == {}, for 0 = {}\".format(solve(eq,x)[0], eq))"
      ],
      "metadata": {
        "colab": {
          "base_uri": "https://localhost:8080/"
        },
        "id": "WbtnEJmzTjfH",
        "outputId": "09619378-fb62-4401-93e0-8035858a8e4d"
      },
      "execution_count": null,
      "outputs": [
        {
          "output_type": "stream",
          "name": "stdout",
          "text": [
            "x == 2, for 0 = -2 + 4/x\n"
          ]
        }
      ]
    },
    {
      "cell_type": "markdown",
      "source": [
        "###Defining function to solve for x."
      ],
      "metadata": {
        "id": "71LsdKOllXUt"
      }
    },
    {
      "cell_type": "code",
      "source": [
        "def solve_for_x():\n",
        "  \n",
        "  x = symbols('x')\n",
        "  #eq = input(prompt=\"Enter equation: 0 = \")\n",
        "\n",
        "  first = parse_expr(input(prompt=\"Enter equation, using 'x' for unknown value: \")) #parse_expr to format the string input\n",
        "  sec = parse_expr(input(prompt=\"{} = \".format(first))) #parse_expr to format the string input\n",
        "  eq1 = Eq(first,sec) #manually setting \"eq == 0\" in second arg\n",
        "\n",
        "  solution = solve(eq1,x)\n",
        "  for s in solution:\n",
        "    print(s)"
      ],
      "metadata": {
        "id": "z-tLYA1qg_hB"
      },
      "execution_count": null,
      "outputs": []
    },
    {
      "cell_type": "code",
      "source": [
        "solve_for_x()"
      ],
      "metadata": {
        "id": "1PAsEiHZlVE-",
        "colab": {
          "base_uri": "https://localhost:8080/"
        },
        "outputId": "410725fd-068a-4148-842c-1db0bddef4f1"
      },
      "execution_count": null,
      "outputs": [
        {
          "output_type": "stream",
          "name": "stdout",
          "text": [
            "Enter equation, using 'x' for unknown value: 2*x - 2\n",
            "2*x - 2 = 6\n",
            "4\n"
          ]
        }
      ]
    },
    {
      "cell_type": "markdown",
      "source": [
        "###Define function to solve for multi-variables."
      ],
      "metadata": {
        "id": "O8fwx5IN_zlo"
      }
    },
    {
      "cell_type": "code",
      "source": [
        "def solve_for_multi():\n",
        "  expr = parse_expr(input(prompt='Enter equation (variables should be on one side):')) #makes input recognized as an expression\n",
        "  vars = ''.join(i for i in str(expr) if i.isalpha()) #checks for variables in expression \n",
        "  equate = float((input(prompt=\"{} = \".format(expr)))) #Input a number to equate\n",
        "\n",
        "  eq1 = Eq(expr, equate)\n",
        "  for i in vars:\n",
        "    print(\"{} == {}\".format(i, solve(eq1, var(i))[0]))  \n"
      ],
      "metadata": {
        "id": "cKndf8PXGn-o"
      },
      "execution_count": null,
      "outputs": []
    },
    {
      "cell_type": "code",
      "source": [
        "solve_for_multi()"
      ],
      "metadata": {
        "colab": {
          "base_uri": "https://localhost:8080/"
        },
        "id": "c0hilR2PL3Ky",
        "outputId": "e4a67f5a-ce7b-4315-997a-a87158c10035"
      },
      "execution_count": null,
      "outputs": [
        {
          "output_type": "stream",
          "name": "stdout",
          "text": [
            "Enter equation (variables should be on one side):3*x - 12\n",
            "3*x - 12 = 0\n",
            "x == 4\n"
          ]
        }
      ]
    },
    {
      "cell_type": "markdown",
      "source": [
        "###Factoring for $x$ using `sympy.factor()` method"
      ],
      "metadata": {
        "id": "j5P97xsGc2nL"
      }
    },
    {
      "cell_type": "code",
      "source": [
        "var('x')\n",
        "eq = 4/x - 2\n",
        "factor(eq) #sympy.factor()\n",
        "\n",
        "var('x y')\n",
        "eq = 2*x-2*y\n",
        "factor(eq)"
      ],
      "metadata": {
        "colab": {
          "base_uri": "https://localhost:8080/",
          "height": 38
        },
        "id": "xkvBwNvNeIIl",
        "outputId": "bd33b7cf-2608-4261-cc26-6040c4ec8593"
      },
      "execution_count": null,
      "outputs": [
        {
          "output_type": "execute_result",
          "data": {
            "text/plain": [
              "2*(x - y)"
            ],
            "text/latex": "$\\displaystyle 2 \\left(x - y\\right)$"
          },
          "metadata": {},
          "execution_count": 63
        }
      ]
    },
    {
      "cell_type": "markdown",
      "source": [
        "##Converting Fraction and Decimals"
      ],
      "metadata": {
        "id": "-uoqalq-fdQf"
      }
    },
    {
      "cell_type": "markdown",
      "source": [
        "##Dealing with repeating decimals (ie. .3\\~, .0909~)"
      ],
      "metadata": {
        "id": "GKLr1-YtiWrM"
      }
    },
    {
      "cell_type": "markdown",
      "source": [
        "Multiply both sides by 10**n, where n equals the number of digits repeating.\n",
        "\n",
        "`\n",
        "x = 0.3~;\n",
        "1 repeating number;\n",
        "x * 10^1 = 0.3 * 10^1;\n",
        "10x = 3.333 \n",
        "`\n"
      ],
      "metadata": {
        "id": "FLJBrrpghYiT"
      }
    }
  ]
}